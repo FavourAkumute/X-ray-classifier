{
  "nbformat": 4,
  "nbformat_minor": 0,
  "metadata": {
    "colab": {
      "provenance": [],
      "mount_file_id": "1diTfo6_GoOD51bWYoicc6Yjt74gfZtHD",
      "authorship_tag": "ABX9TyNk9bHmvUigNCNJQ1eAy2/g",
      "include_colab_link": true
    },
    "kernelspec": {
      "name": "python3",
      "display_name": "Python 3"
    },
    "language_info": {
      "name": "python"
    }
  },
  "cells": [
    {
      "cell_type": "markdown",
      "metadata": {
        "id": "view-in-github",
        "colab_type": "text"
      },
      "source": [
        "<a href=\"https://colab.research.google.com/github/FavourAkumute/X-ray-classifier/blob/main/Bone_fracture_prediction.ipynb\" target=\"_parent\"><img src=\"https://colab.research.google.com/assets/colab-badge.svg\" alt=\"Open In Colab\"/></a>"
      ]
    },
    {
      "cell_type": "code",
      "execution_count": 8,
      "metadata": {
        "id": "pg8RpSqDwemj"
      },
      "outputs": [],
      "source": [
        "import pandas as pd\n",
        "import numpy as np\n",
        "import matplotlib.pyplot as plt\n",
        "import seaborn as sns\n",
        "import keras\n",
        "from keras.models import Sequential\n",
        "from keras.layers import Dense, Conv2D , MaxPool2D , Flatten , Dropout , BatchNormalization\n",
        "from keras.preprocessing.image import ImageDataGenerator\n",
        "from sklearn.model_selection import train_test_split\n",
        "from sklearn.metrics import classification_report,confusion_matrix\n",
        "from keras.callbacks import ReduceLROnPlateau\n",
        "import cv2\n",
        "import os"
      ]
    },
    {
      "cell_type": "code",
      "source": [
        "data_dir ='/content/drive/MyDrive/Bone Break Classification/Bone Break Classification'\n",
        "train_data = keras.utils.image_dataset_from_directory(\n",
        "    data_dir,\n",
        "    labels=\"inferred\",\n",
        "    label_mode=\"int\",\n",
        "    validation_split=0.2,\n",
        "    subset=\"training\",\n",
        "    shuffle=True,\n",
        "    color_mode=\"grayscale\",\n",
        "    image_size=(256,256),\n",
        "    batch_size=64,\n",
        "    seed=40\n",
        ")\n",
        "\n",
        "#load the test data\n",
        "val_data = keras.utils.image_dataset_from_directory(\n",
        "    data_dir,\n",
        "    labels=\"inferred\",\n",
        "    label_mode=\"int\",\n",
        "    validation_split=0.2,\n",
        "    subset=\"validation\",\n",
        "    color_mode=\"grayscale\",\n",
        "    image_size=(256,256),\n",
        "    batch_size=64,\n",
        "    seed=42\n",
        ")\n"
      ],
      "metadata": {
        "colab": {
          "base_uri": "https://localhost:8080/"
        },
        "id": "ncmY1zat1P6X",
        "outputId": "c37b0a45-e3da-4e35-d00b-91afafa5697f"
      },
      "execution_count": 34,
      "outputs": [
        {
          "output_type": "stream",
          "name": "stdout",
          "text": [
            "Found 1129 files belonging to 10 classes.\n",
            "Using 904 files for training.\n",
            "Found 1129 files belonging to 10 classes.\n",
            "Using 225 files for validation.\n"
          ]
        }
      ]
    },
    {
      "cell_type": "code",
      "source": [
        "classes = train_data.class_names"
      ],
      "metadata": {
        "id": "l2N2pfar4O1C"
      },
      "execution_count": 35,
      "outputs": []
    }
  ]
}